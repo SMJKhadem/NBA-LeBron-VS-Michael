{
 "cells": [
  {
   "cell_type": "code",
   "execution_count": 22,
   "id": "01553f13",
   "metadata": {},
   "outputs": [
    {
     "name": "stdout",
     "output_type": "stream",
     "text": [
      "Could not process file .DS_Store\n"
     ]
    }
   ],
   "source": [
    "import os\n",
    "from PIL import Image\n",
    "\n",
    "# Set the path to the folder containing the original images\n",
    "input_folder = './images'\n",
    "\n",
    "# Set the path to the folder where the rotated images will be saved\n",
    "output_folder = './images_good'\n",
    "\n",
    "\n",
    "# Loop through all files in the input folder\n",
    "for filename in os.listdir(input_folder):\n",
    "    # Create the full path to the input file\n",
    "    input_path = os.path.join(input_folder, filename)\n",
    "\n",
    "    try:\n",
    "        # Open the image file\n",
    "        image = Image.open(input_path)\n",
    "        new_size = (260, 200)\n",
    "        resize=image.resize(new_size)\n",
    "\n",
    "        # Rotate the image by 45 degrees\n",
    "        rotated = resize.rotate(0, expand=True)\n",
    "\n",
    "        # Create the full path to the output file\n",
    "        output_path = os.path.join(output_folder, filename)\n",
    "\n",
    "        # Save the rotated image to a file\n",
    "        rotated.save(output_path)\n",
    "    except:\n",
    "        # Skip any files that cannot be identified as valid image files\n",
    "        print(f\"Could not process file {filename}\")\n"
   ]
  },
  {
   "cell_type": "code",
   "execution_count": 5,
   "id": "2d179a4c",
   "metadata": {},
   "outputs": [],
   "source": [
    "import os\n",
    "from PIL import Image\n",
    "input_path = './images/fallback.png'\n",
    "output_path='./images/fallbacks.png'\n",
    "image = Image.open(input_path)\n",
    "new_size = (260, 200)\n",
    "resize=image.resize(new_size)\n",
    "\n",
    "resize.save(output_path)"
   ]
  },
  {
   "cell_type": "raw",
   "id": "4876b684",
   "metadata": {},
   "source": []
  }
 ],
 "metadata": {
  "kernelspec": {
   "display_name": "Python 3 (ipykernel)",
   "language": "python",
   "name": "python3"
  },
  "language_info": {
   "codemirror_mode": {
    "name": "ipython",
    "version": 3
   },
   "file_extension": ".py",
   "mimetype": "text/x-python",
   "name": "python",
   "nbconvert_exporter": "python",
   "pygments_lexer": "ipython3",
   "version": "3.9.13"
  }
 },
 "nbformat": 4,
 "nbformat_minor": 5
}
